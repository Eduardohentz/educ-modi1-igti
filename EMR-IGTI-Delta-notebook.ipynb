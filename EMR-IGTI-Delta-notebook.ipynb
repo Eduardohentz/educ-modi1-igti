{
 "cells": [
  {
   "cell_type": "markdown",
   "metadata": {},
   "source": [
    "# Bootcamp Engenheiro de Dados Cloud - IGTI - Módulo 1\n",
    "### Jorge Luiz da Silva\n",
    "#### Caso de uso - Delta Lake\n",
    "Depois de realizar o processamento dos dados do ENEM 2020 e fazer a ingestão no lake no formato delta, vamos verificar o upsert realizado usando o time travel."
   ]
  },
  {
   "cell_type": "code",
   "execution_count": null,
   "metadata": {},
   "outputs": [],
   "source": [
    "import pyspark"
   ]
  },
  {
   "cell_type": "code",
   "execution_count": null,
   "metadata": {},
   "outputs": [],
   "source": [
    "%%configure -f\n",
    "{\n",
    "    \"conf\": {\n",
    "        \"spark.jars.packages\": \"io.delta:delta-core_2.12:1.0.0\", \n",
    "        \"spark.sql.extensions\": \"io.delta.sql.DeltaSparkSessionExtension\", \n",
    "        \"spark.sql.catalog.spark_catalog\": \"org.apache.spark.sql.delta.catalog.DeltaCatalog\"\n",
    "    }\n",
    "}"
   ]
  },
  {
   "cell_type": "code",
   "execution_count": null,
   "metadata": {},
   "outputs": [],
   "source": [
    "inscricoes = [200001595656,200001421546,200001133210,200001199383,200001237802,\n",
    "    200001782198,200001421548,200001595657,200001592264,200001592266,200001592265,200001475147,200001867756,200001133211,\n",
    "    200001237803,200001493186,200001421547,200001493187,200001210202,200001421549,200001595658,200002037437,200001421550,\n",
    "    200001595659,200001421551,200001237804,200001867757,200001184600,200001692704,200001867758,200002037438,200001595660,\n",
    "    200001237805,200001705260,200001421552,200001867759,200001595661,200001042834,200001237806,200001595662,200001421553,\n",
    "    200001475148,200001421554,200001493188,200002037439,200001421555,200001480442,200001493189,200001705261,200001421556]"
   ]
  },
  {
   "cell_type": "code",
   "execution_count": null,
   "metadata": {},
   "outputs": [],
   "source": [
    "from delta.tables import *"
   ]
  },
  {
   "cell_type": "code",
   "execution_count": null,
   "metadata": {},
   "outputs": [],
   "source": [
    "df_last = (\n",
    "    spark\n",
    "    .read\n",
    "    .format(\"delta\")\n",
    "    .load(\"s3://datalake-jorge-igti-tf-producao-431738431676/staging-zone/enem/\")\n",
    ")"
   ]
  },
  {
   "cell_type": "code",
   "execution_count": null,
   "metadata": {},
   "outputs": [],
   "source": [
    "(\n",
    "    df_last\n",
    "    .where(df_last.NU_INSCRICAO.isin(inscricoes))\n",
    "    .select(\"NU_INSCRICAO\", \"CO_MUNICIPIO_ESC\")\n",
    "    .orderBy(\"NU_INSCRICAO\")\n",
    "    .show()\n",
    ")"
   ]
  },
  {
   "cell_type": "code",
   "execution_count": null,
   "metadata": {},
   "outputs": [],
   "source": [
    "df_anterior = (\n",
    "    spark\n",
    "    .read\n",
    "    .format(\"delta\")\n",
    "    .option(\"versionAsOf\", \"0\")\n",
    "    .load(\"s3://datalake-jorge-igti-tf-producao-431738431676/staging-zone/enem/\")\n",
    ")"
   ]
  },
  {
   "cell_type": "code",
   "execution_count": null,
   "metadata": {},
   "outputs": [],
   "source": [
    "(\n",
    "    df_anterior\n",
    "    .where(df_anterior.NU_INSCRICAO.isin(inscricoes))\n",
    "    .select(\"NU_INSCRICAO\", \"CO_MUNICIPIO_ESC\")\n",
    "    .orderBy(\"NU_INSCRICAO\")\n",
    "    .show()\n",
    ")"
   ]
  },
  {
   "cell_type": "code",
   "execution_count": null,
   "metadata": {},
   "outputs": [],
   "source": [
    "spark.stop()"
   ]
  }
 ],
 "metadata": {
  "language_info": {
   "name": "python"
  },
  "orig_nbformat": 4
 },
 "nbformat": 4,
 "nbformat_minor": 2
}
